{
 "cells": [
  {
   "metadata": {},
   "cell_type": "raw",
   "source": "Miscellaneous",
   "id": "d4cb9f168ba7c496"
  },
  {
   "metadata": {},
   "cell_type": "code",
   "outputs": [],
   "execution_count": null,
   "source": [
    "# Checking the features used for SVD and VOICED datasets\n",
    "import pandas as pd\n",
    "svd = pd.read_csv(\"data/flattened_features.csv\")\n",
    "voiced = pd.read_csv(\"data/voiced_features_8000_fft.csv\")\n",
    "\n",
    "svd_cols = set(svd.columns.to_list())\n",
    "voiced_cols = set(voiced.columns.to_list())\n",
    "svd_cols - voiced_cols"
   ],
   "id": "d7ad5256a60316a0"
  },
  {
   "metadata": {
    "ExecuteTime": {
     "end_time": "2025-06-09T00:36:03.851737Z",
     "start_time": "2025-06-09T00:36:03.845129Z"
    }
   },
   "cell_type": "code",
   "source": [
    "# Comparing new and old results\n",
    "with open(\"latex_tables.tex\", \"r\") as f1:\n",
    "    content1 = f1.read()\n",
    "\n",
    "with open(\"latex_tables_old.tex\", \"r\") as f2:\n",
    "    content2 = f2.read()\n",
    "\n",
    "content1 == content2"
   ],
   "id": "d83006d271039fae",
   "outputs": [
    {
     "data": {
      "text/plain": [
       "False"
      ]
     },
     "execution_count": 5,
     "metadata": {},
     "output_type": "execute_result"
    }
   ],
   "execution_count": 5
  }
 ],
 "metadata": {},
 "nbformat": 4,
 "nbformat_minor": 5
}
