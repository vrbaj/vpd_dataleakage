{
 "cells": [
  {
   "metadata": {},
   "cell_type": "markdown",
   "source": "Table maker",
   "id": "ba43c13c0baaa675"
  },
  {
   "cell_type": "code",
   "id": "initial_id",
   "metadata": {
    "collapsed": true,
    "ExecuteTime": {
     "end_time": "2025-06-04T05:42:41.344534Z",
     "start_time": "2025-06-04T05:42:41.339296Z"
    }
   },
   "source": [
    "import json\n",
    "from pathlib import Path\n",
    "\n",
    "import pandas as pd\n",
    "from matplotlib import pyplot as plt\n",
    "\n",
    "results_dir = Path(\".\", \"results_minimal\")\n",
    "scaling_transformations = set([str(file).split(\"_\")[2] for file in list(results_dir.glob(\"*.json\"))])\n",
    "scaling_transformations"
   ],
   "outputs": [
    {
     "data": {
      "text/plain": [
       "{'MaxAbsScaler',\n",
       " 'MinMaxScaler',\n",
       " 'QuantileTransformer',\n",
       " 'RobustScaler',\n",
       " 'StandardScaler'}"
      ]
     },
     "execution_count": 7,
     "metadata": {},
     "output_type": "execute_result"
    }
   ],
   "execution_count": 7
  },
  {
   "metadata": {},
   "cell_type": "markdown",
   "source": "Table with results for each scaler",
   "id": "cb348f7f019da37"
  },
  {
   "metadata": {
    "ExecuteTime": {
     "end_time": "2025-06-04T05:42:44.441330Z",
     "start_time": "2025-06-04T05:42:44.085974Z"
    }
   },
   "cell_type": "code",
   "source": [
    "pandas_tables = []\n",
    "for scaler in scaling_transformations:\n",
    "    scaler_table = {\"classifier\": [],\n",
    "                    \"maxdiff\": [],\n",
    "                    \"mindiff\": [],\n",
    "                    \"meandiff\": [],\n",
    "                    \"stddiff\": [],\n",
    "                    \"bestdiff\": [],\n",
    "                    \"bestcorrect\": [],\n",
    "                    \"meancorrect\": [],\n",
    "                    \"worstcorrect\": []}\n",
    "    for result in results_dir.glob(f\"*{scaler}*\"):\n",
    "        with open(result, \"r\") as f:\n",
    "            clf_results = json.load(f)\n",
    "            to_pandas = {\"seed\": [], \"bcc_correct\": [], \"bcc_leakage\": []}\n",
    "            for seed_experiment in clf_results.keys():\n",
    "                to_pandas[\"seed\"].append(int(seed_experiment))\n",
    "                to_pandas[\"bcc_correct\"].append(clf_results[seed_experiment][\"bcc\"][\"correct\"])\n",
    "                to_pandas[\"bcc_leakage\"].append(clf_results[seed_experiment][\"bcc\"][\"leakage\"])\n",
    "\n",
    "            pd_data = pd.DataFrame(to_pandas)\n",
    "            scaler_table[\"classifier\"].append(str(result.stem).split(\"_\")[4])\n",
    "            diff = pd_data[\"bcc_leakage\"] - pd_data[\"bcc_correct\"]\n",
    "            # plt.figure()\n",
    "            # plt.hist(diff, bins=100)\n",
    "            # plt.title(f\"{result.stem} - {scaler}\")\n",
    "\n",
    "            scaler_table[\"maxdiff\"].append(diff.max())\n",
    "            scaler_table[\"mindiff\"].append(diff.min())\n",
    "            scaler_table[\"meandiff\"].append(diff.mean())\n",
    "            scaler_table[\"stddiff\"].append(diff.std())\n",
    "            scaler_table[\"bestdiff\"].append(pd_data[\"bcc_leakage\"].max() - pd_data[\"bcc_correct\"].max())\n",
    "            scaler_table[\"bestcorrect\"].append(pd_data[\"bcc_correct\"].max())\n",
    "            scaler_table[\"meancorrect\"].append(pd_data[\"bcc_correct\"].mean())\n",
    "            scaler_table[\"worstcorrect\"].append(pd_data[\"bcc_correct\"].min())\n",
    "\n",
    "        pd_to_dump = pd.DataFrame(scaler_table).to_csv(f\"scaler_{scaler}.csv\")\n",
    "plt.show()"
   ],
   "id": "ccbb5247b2dd8101",
   "outputs": [],
   "execution_count": 8
  },
  {
   "metadata": {},
   "cell_type": "code",
   "outputs": [],
   "execution_count": null,
   "source": "",
   "id": "b85d3ccece227342"
  }
 ],
 "metadata": {
  "kernelspec": {
   "display_name": "Python 3",
   "language": "python",
   "name": "python3"
  },
  "language_info": {
   "codemirror_mode": {
    "name": "ipython",
    "version": 2
   },
   "file_extension": ".py",
   "mimetype": "text/x-python",
   "name": "python",
   "nbconvert_exporter": "python",
   "pygments_lexer": "ipython2",
   "version": "2.7.6"
  }
 },
 "nbformat": 4,
 "nbformat_minor": 5
}
